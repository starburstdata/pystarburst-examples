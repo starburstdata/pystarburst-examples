{
 "cells": [
  {
   "cell_type": "markdown",
   "metadata": {},
   "source": [
    "## Simple space mission analysis with PyStarburst and Galaxy"
   ]
  },
  {
   "cell_type": "markdown",
   "metadata": {},
   "source": [
    "### Sign up for a Galaxy account & setup the sample catalog\n",
    "\n",
    "You'll need a [Starburst Galaxy](\"https://www.starburst.io/platform/starburst-galaxy/start/\") account with a sample catalog [setup](\"https://docs.starburst.io/starburst-galaxy/catalogs/sample.html\") alongside a writeable catalog (suggested to use an object-store based catalog) for storing the results."
   ]
  },
  {
   "cell_type": "code",
   "execution_count": null,
   "metadata": {},
   "outputs": [],
   "source": [
    "# Install the library\n",
    "\n",
    "%pip install pystarburst\n",
    "%pip install pandas matplotlib"
   ]
  },
  {
   "cell_type": "code",
   "execution_count": null,
   "metadata": {
    "collapsed": false
   },
   "outputs": [],
   "source": [
    "# Define Connection Properties\n",
    "# You can get the host and other information from the Partner Connect -> PyStarburst section in Galaxy\n",
    "\n",
    "import getpass\n",
    "\n",
    "host = input(\"Host name\")\n",
    "username = input(\"User name\")\n",
    "password = getpass.getpass(\"Password\")"
   ]
  },
  {
   "cell_type": "code",
   "execution_count": null,
   "metadata": {},
   "outputs": [],
   "source": [
    "# Import dependencies\n",
    "\n",
    "from pystarburst import Session\n",
    "from pystarburst import functions as f\n",
    "from pystarburst.functions import col\n",
    "\n",
    "import trino\n",
    "\n",
    "session_properties = {\n",
    "    \"host\":host,\n",
    "    \"port\": 443,\n",
    "    # Needed for https secured clusters\n",
    "    \"http_scheme\": \"https\",\n",
    "    # Setup authentication through login or password or any other supported authentication methods\n",
    "    # See docs: https://github.com/trinodb/trino-python-client#authentication-mechanisms\n",
    "    \"auth\": trino.auth.BasicAuthentication(username, password)\n",
    "}\n",
    "\n",
    "session = Session.builder.configs(session_properties).create()"
   ]
  },
  {
   "cell_type": "code",
   "execution_count": null,
   "metadata": {},
   "outputs": [],
   "source": [
    "# Validate connectivity to the cluster\n",
    "\n",
    "session.sql(\"select 1 as b\").collect()"
   ]
  },
  {
   "cell_type": "code",
   "execution_count": null,
   "metadata": {},
   "outputs": [],
   "source": [
    "# Let's understand the data\n",
    "\n",
    "df_missions = session.table(\"sample.demo.missions\")\n",
    "\n",
    "print(df_missions.schema)\n",
    "df_missions.show()"
   ]
  },
  {
   "cell_type": "code",
   "execution_count": null,
   "metadata": {},
   "outputs": [],
   "source": [
    "#\n",
    "# There's some data clean up needed - plus we want to only look at missions since the year 2000\n",
    "#\n",
    "\n",
    "from datetime import datetime\n",
    "\n",
    "# We can add arbitrary SQL expressions as needed\n",
    "df_missions = df_missions.with_column(\"date\", f.sql_expr(\"COALESCE(TRY(date_parse(\\\"date\\\", '%a %b %d, %Y %H:%i UTC')), NULL)\"))\n",
    "\n",
    "print(df_missions.schema)\n",
    "\n",
    "df_missions = df_missions\\\n",
    "    .filter(col(\"date\") > datetime(2000, 1, 1))\\\n",
    "    .sort(col(\"date\"), ascending=True)\n",
    "\n",
    "df_missions.show()"
   ]
  },
  {
   "cell_type": "code",
   "execution_count": null,
   "metadata": {},
   "outputs": [],
   "source": [
    "#\n",
    "# Next we'll do a basic aggregation for summarization\n",
    "#\n",
    "\n",
    "df_summarized = df_missions\\\n",
    "    .group_by(\"company_name\")\\\n",
    "    .count()\\\n",
    "    .rename(\"count\", \"num_missions\")\\\n",
    "    .sort(col(\"num_missions\").desc())\n",
    "df_summarized.show(n=100)"
   ]
  },
  {
   "cell_type": "code",
   "execution_count": null,
   "metadata": {},
   "outputs": [],
   "source": [
    "#\n",
    "# Finally, let's write the table to our data lake\n",
    "#\n",
    "\n",
    "session.sql(\"CREATE SCHEMA IF NOT EXISTS s3lakehouse.pystarburst_mis_sum\").collect()\n",
    "\n",
    "session.sql(\"DROP TABLE IF EXISTS s3lakehouse.pystarburst_mis_sum.missions_summary\").collect()\n",
    "\n",
    "df_summarized.write.save_as_table(\n",
    "    \"s3lakehouse.pystarburst_mis_sum.missions_summary\",\n",
    ")\n",
    "\n",
    "df_validation = session.table(\"s3lakehouse.pystarburst_mis_sum.missions_summary\").show()"
   ]
  },
  {
   "cell_type": "code",
   "execution_count": null,
   "metadata": {},
   "outputs": [],
   "source": [
    "import pandas as pd\n",
    "import matplotlib.pyplot as plt\n",
    "\n",
    "def to_pandas_df(pystarburst_df):\n",
    "    return pd.DataFrame(pystarburst_df.collect())\n",
    "\n",
    "df_validation_pd = to_pandas_df(session.table(\"s3lakehouse.pystarburst_mis_sum.missions_summary\"))\n",
    "df_validation_pd = df_validation_pd.sort_values('num_missions')"
   ]
  },
  {
   "cell_type": "code",
   "execution_count": null,
   "metadata": {},
   "outputs": [],
   "source": [
    "df_validation_pd.plot.pie(figsize=(20,12), y='num_missions', labels=df_validation_pd['company_name'], legend=False)"
   ]
  }
 ],
 "metadata": {
  "kernelspec": {
   "display_name": ".venv",
   "language": "python",
   "name": "python3"
  },
  "language_info": {
   "codemirror_mode": {
    "name": "ipython",
    "version": 3
   },
   "file_extension": ".py",
   "mimetype": "text/x-python",
   "name": "python",
   "nbconvert_exporter": "python",
   "pygments_lexer": "ipython3",
   "version": "3.11.3"
  },
  "orig_nbformat": 4
 },
 "nbformat": 4,
 "nbformat_minor": 2
}
