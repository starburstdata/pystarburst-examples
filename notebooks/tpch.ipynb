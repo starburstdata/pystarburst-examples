{
 "cells": [
  {
   "cell_type": "markdown",
   "metadata": {
    "tags": []
   },
   "source": [
    "# Exploring PyStarburst with Starburst Galaxy and the TPC-H dataset"
   ]
  },
  {
   "cell_type": "markdown",
   "metadata": {},
   "source": [
    "## Getting started\n",
    "\n",
    "### Sign up for a Galaxy account & setup the sample catalog\n",
    "\n",
    "You'll need a Starburst Galaxy account, https://www.starburst.io/platform/starburst-galaxy/start/, configured with the TPC-H catalog, https://docs.starburst.io/starburst-galaxy/working-with-data/create-catalogs/sample-data-sets/tpch.html.\n",
    "\n",
    "### Load the Dataframe (DF) API \n",
    "\n",
    "Pull up https://pystarburst.eng.starburstdata.net/ in a browser window.\n",
    "\n",
    "## Explore via code examples\n",
    "\n",
    "Lets go!"
   ]
  },
  {
   "cell_type": "code",
   "execution_count": null,
   "metadata": {
    "tags": []
   },
   "outputs": [],
   "source": [
    "#\n",
    "# Install the library\n",
    "#\n",
    "\n",
    "%pip install pystarburst"
   ]
  },
  {
   "cell_type": "code",
   "execution_count": null,
   "metadata": {
    "jupyter": {
     "outputs_hidden": false
    },
    "tags": []
   },
   "outputs": [],
   "source": [
    "#\n",
    "# Define connection properties\n",
    "#  get the host and other information from the cluster list\n",
    "#\n",
    "\n",
    "import getpass\n",
    "\n",
    "host = input(\"Host name\")\n",
    "username = input(\"User name\")\n",
    "password = getpass.getpass(\"Password\")"
   ]
  },
  {
   "cell_type": "code",
   "execution_count": null,
   "metadata": {
    "tags": []
   },
   "outputs": [],
   "source": [
    "#\n",
    "# Import dependencies\n",
    "#\n",
    "\n",
    "from pystarburst import Session\n",
    "from pystarburst import functions as F\n",
    "from pystarburst.functions import *\n",
    "from pystarburst.window import Window as W\n",
    "\n",
    "import trino\n",
    "\n",
    "session_properties = {\n",
    "    \"host\":host,\n",
    "    \"port\": 443,\n",
    "    # Needed for https secured clusters\n",
    "    \"http_scheme\": \"https\",\n",
    "    # Setup authentication through login or password or any other supported authentication methods\n",
    "    # See docs: https://github.com/trinodb/trino-python-client#authentication-mechanisms\n",
    "    \"auth\": trino.auth.BasicAuthentication(username, password)\n",
    "}\n",
    "\n",
    "session = Session.builder.configs(session_properties).create()"
   ]
  },
  {
   "cell_type": "code",
   "execution_count": null,
   "metadata": {
    "tags": []
   },
   "outputs": [],
   "source": [
    "#\n",
    "# Validate connectivity to the cluster\n",
    "#\n",
    "\n",
    "session.sql(\"select 1 as b\").collect()"
   ]
  },
  {
   "cell_type": "code",
   "execution_count": null,
   "metadata": {
    "tags": []
   },
   "outputs": [],
   "source": [
    "#\n",
    "# Ensure we have access to the TPC-H dataset by listing the tables in the tiny schema\n",
    "#  https://pystarburst.eng.starburstdata.net/session.html#pystarburst.session.Session.sql\n",
    "#\n",
    "\n",
    "session.sql(\"show tables from tpch.tiny\").collect()"
   ]
  },
  {
   "cell_type": "code",
   "execution_count": null,
   "metadata": {
    "tags": []
   },
   "outputs": [],
   "source": [
    "#\n",
    "# What columns make up the lineitem table\n",
    "#  https://pystarburst.eng.starburstdata.net/session.html#pystarburst.session.Session.table\n",
    "#  https://pystarburst.eng.starburstdata.net/dataframe.html#pystarburst.dataframe.DataFrame.schema\n",
    "#\n",
    "\n",
    "# Create a Dataframe for the lineitem table\n",
    "tli = session.table(\"tpch.tiny.lineitem\")\n",
    "\n",
    "# Show the columns\n",
    "print(tli.schema)"
   ]
  },
  {
   "cell_type": "code",
   "execution_count": null,
   "metadata": {},
   "outputs": [],
   "source": [
    "#\n",
    "# That was pretty busy, let's try that again...\n",
    "#  loop through the fields of fhe schema and print them out\n",
    "#\n",
    "\n",
    "for field in tli.schema.fields:\n",
    "    print(field.name +\" , \"+str(field.datatype))"
   ]
  },
  {
   "cell_type": "code",
   "execution_count": null,
   "metadata": {},
   "outputs": [],
   "source": [
    "#\n",
    "# Show the data\n",
    "#  a is the Dataframe (DF) that we defined early\n",
    "#  the show() command will list out up to 10 rows\n",
    "#    pass it an argument for something longer\n",
    "#  https://pystarburst.eng.starburstdata.net/dataframe.html#pystarburst.dataframe.DataFrame.show\n",
    "#\n",
    "\n",
    "tli.show()"
   ]
  },
  {
   "cell_type": "code",
   "execution_count": null,
   "metadata": {
    "tags": []
   },
   "outputs": [],
   "source": [
    "#\n",
    "# That was pretty busy, let's try that again...\n",
    "#  use the select method on an existing DF identifying just the columns to keep\n",
    "#   https://pystarburst.eng.starburstdata.net/dataframe.html#pystarburst.dataframe.DataFrame.select\n",
    "\n",
    "tli_projected = tli.select(\"orderkey\", \"linenumber\", \"quantity\", \"extendedprice\", \"linestatus\")\n",
    "tli_projected.show()"
   ]
  },
  {
   "cell_type": "code",
   "execution_count": null,
   "metadata": {},
   "outputs": [],
   "source": [
    "#\n",
    "# Add a simple sort\n",
    "#  https://pystarburst.eng.starburstdata.net/dataframe.html#pystarburst.dataframe.DataFrame.sort\n",
    "#\n",
    "\n",
    "tli_projected.sort(\"orderkey\").show()"
   ]
  },
  {
   "cell_type": "code",
   "execution_count": null,
   "metadata": {},
   "outputs": [],
   "source": [
    "#\n",
    "# Multiple column sort\n",
    "#\n",
    "\n",
    "tli_projected.sort(\"orderkey\", \"linenumber\").show()"
   ]
  },
  {
   "cell_type": "code",
   "execution_count": null,
   "metadata": {},
   "outputs": [],
   "source": [
    "#\n",
    "# Filter some of the data\n",
    "#  https://pystarburst.eng.starburstdata.net/dataframe.html#pystarburst.dataframe.DataFrame.filter\n",
    "#\n",
    "\n",
    "# pfs = projected & filtered & sorted\n",
    "tli_pfs = tli_projected.filter(\"orderkey <= 5\").sort(\"orderkey\", \"linenumber\")\n",
    "tli_pfs.show()"
   ]
  },
  {
   "cell_type": "code",
   "execution_count": null,
   "metadata": {},
   "outputs": [],
   "source": [
    "#\n",
    "# Are there no lineitem rows for orderkeys 4 or 5?\n",
    "#  there are; it is just the default number of rows from show()\n",
    "#   https://pystarburst.eng.starburstdata.net/dataframe.html#pystarburst.dataframe.DataFrame.count\n",
    "\n",
    "# How many rows are present?\n",
    "print(tli_pfs.count())"
   ]
  },
  {
   "cell_type": "code",
   "execution_count": null,
   "metadata": {},
   "outputs": [],
   "source": [
    "#\n",
    "# Use limit() to only have a specific number of rows\n",
    "#  https://pystarburst.eng.starburstdata.net/dataframe.html#pystarburst.dataframe.DataFrame.limit\n",
    "# \n",
    "\n",
    "print(tli_pfs.limit(5).count())"
   ]
  },
  {
   "cell_type": "code",
   "execution_count": null,
   "metadata": {},
   "outputs": [],
   "source": [
    "#\n",
    "# To see them all (or just more than 10) add an argument to show()\n",
    "#\n",
    "\n",
    "tli_pfs.show(50)"
   ]
  },
  {
   "cell_type": "code",
   "execution_count": null,
   "metadata": {},
   "outputs": [],
   "source": [
    "#\n",
    "# The Dataframe API also let's you just write SQL, too\n",
    "# \n",
    "\n",
    "tli_pfs_sql = session.sql(\" \\\n",
    "    SELECT orderkey, linenumber, quantity, extendedprice, linestatus \\\n",
    "      FROM tpch.tiny.lineitem \\\n",
    "     WHERE orderkey <= 5 \\\n",
    "     ORDER BY orderkey, linenumber\")\n",
    "tli_pfs_sql.show(50)"
   ]
  },
  {
   "cell_type": "code",
   "execution_count": null,
   "metadata": {},
   "outputs": [],
   "source": [
    "#\n",
    "# You can also mix/n/match with SQL and the API\n",
    "# \n",
    "\n",
    "session.sql(\"SELECT orderkey, linenumber, quantity, extendedprice, linestatus \\\n",
    "               FROM tpch.tiny.lineitem\") \\\n",
    "     .filter(\"orderkey <= 5\").sort(\"orderkey\", \"linenumber\").show(50)"
   ]
  },
  {
   "cell_type": "code",
   "execution_count": null,
   "metadata": {},
   "outputs": [],
   "source": [
    "#\n",
    "# Let's verify that the DF created by the API's methods is the same \n",
    "#  as the DF created by writing SQL\n",
    "#   https://pystarburst.eng.starburstdata.net/dataframe.html#pystarburst.dataframe.DataFrame.except_\n",
    "#    returns a new DF that contains all the rows from the current DF except \n",
    "#    for the rows that also appear in the other DataFrame\n",
    "#    (THERE SHOULD BE NO ROWS PRESENT AS THEY ARE THE SAME)\n",
    "\n",
    "tli_pfs.except_(tli_pfs_sql).show()"
   ]
  },
  {
   "cell_type": "code",
   "execution_count": null,
   "metadata": {},
   "outputs": [],
   "source": [
    "#\n",
    "# You saw that select() was a way to specifically call out the columns you want\n",
    "#  from an existing DF, but what if there was a bunch of columns and you wanted\n",
    "#  almost all of them?\n",
    "#\n",
    "# The drop() method is the reverse; you identify the columns you'd like to eliminate\n",
    "#  https://pystarburst.eng.starburstdata.net/dataframe.html#pystarburst.dataframe.DataFrame.drop\n",
    "#\n",
    "\n",
    "tli.drop(\"comment\", \"shipmode\", \"shipinstruct\").show()"
   ]
  },
  {
   "cell_type": "code",
   "execution_count": null,
   "metadata": {},
   "outputs": [],
   "source": [
    "#\n",
    "# We saw that you can order by multiple columns already.  When you need to have\n",
    "#  multiple predicates, just chain the filter() methods back to back\n",
    "#\n",
    "\n",
    "tli.filter(\"discount > 0.05\") \\\n",
    "   .filter(\"returnflag = 'A'\") \\\n",
    "   .filter(\"suppkey IN (55, 60, 88)\") \\\n",
    "   .filter(\"shipinstruct LIKE 'TAKE BACK%'\") \\\n",
    "   .select(\"orderkey\", \"linenumber\", \"suppkey\", \"discount\", \"shipinstruct\") \\\n",
    "   .sort(\"discount\", \"suppkey\", \"orderkey\", \"linenumber\").show()"
   ]
  },
  {
   "cell_type": "code",
   "execution_count": null,
   "metadata": {},
   "outputs": [],
   "source": [
    "#\n",
    "# Use standard SQL to see what the shipmode options are\n",
    "#\n",
    "\n",
    "session.sql(\"SELECT DISTINCT(shipmode) FROM tpch.tiny.lineitem\").show()"
   ]
  },
  {
   "cell_type": "code",
   "execution_count": null,
   "metadata": {},
   "outputs": [],
   "source": [
    "#\n",
    "# You can get the same thing from the API\n",
    "#  https://pystarburst.eng.starburstdata.net/dataframe.html#pystarburst.dataframe.DataFrame.distinct\n",
    "#\n",
    "\n",
    "tli.select(\"shipmode\").distinct().show()"
   ]
  },
  {
   "cell_type": "code",
   "execution_count": null,
   "metadata": {},
   "outputs": [],
   "source": [
    "#\n",
    "# Use standard SQL to find out how many lineitems for each shipmode\n",
    "#\n",
    "\n",
    "session.sql(\" \\\n",
    "     SELECT shipmode, count() \\\n",
    "       FROM tpch.tiny.lineitem \\\n",
    "      GROUP BY shipmode \\\n",
    "      ORDER BY shipmode\").show()"
   ]
  },
  {
   "cell_type": "code",
   "execution_count": null,
   "metadata": {},
   "outputs": [],
   "source": [
    "#\n",
    "# You can get the same thing from the API\n",
    "#  https://pystarburst.eng.starburstdata.net/dataframe.html#pystarburst.dataframe.DataFrame.groupBy\n",
    "#\n",
    "\n",
    "tli.group_by(\"shipmode\").count().sort(\"shipmode\").show()"
   ]
  },
  {
   "cell_type": "code",
   "execution_count": null,
   "metadata": {},
   "outputs": [],
   "source": [
    "#\n",
    "# Oh... the DF API almost always has at least 2 ways to perform the same action!\n",
    "#  here's TWO more ways for this example\n",
    "#   https://pystarburst.eng.starburstdata.net/dataframe_grouping_functions.html#pystarburst.relational_grouped_dataframe.RelationalGroupedDataFrame\n",
    "#\n",
    "\n",
    "tli.group_by(\"shipmode\").agg((col(\"*\"), \"count\")).sort(\"shipmode\").show()\n",
    "\n",
    "tli.group_by(\"shipmode\").function(\"count\")(\"*\").sort(\"shipmode\").show()"
   ]
  },
  {
   "cell_type": "code",
   "execution_count": null,
   "metadata": {},
   "outputs": [],
   "source": [
    "#\n",
    "# You can surely calculate multiple aggregate functions for a single group_by\n",
    "#\n",
    "\n",
    "tli.group_by(\"shipmode\").agg( \\\n",
    "     (col(\"shipmode\"), \"count\"), \\\n",
    "     (col(\"quantity\"), \"sum\"), \\\n",
    "     (col(\"extendedprice\"), \"avg\"), \\\n",
    "     (col(\"discount\"), \"max\") \\\n",
    ").sort(\"count(shipmode)\", ascending=False).show()"
   ]
  },
  {
   "cell_type": "code",
   "execution_count": null,
   "metadata": {},
   "outputs": [],
   "source": [
    "#\n",
    "# Probably no surprise that this is the equivalent SQL to the last cell\n",
    "#\n",
    "\n",
    "session.sql(\" \\\n",
    "     SELECT shipmode, count(shipmode), sum(quantity), avg(extendedprice), max(discount) \\\n",
    "       FROM tpch.tiny.lineitem \\\n",
    "      GROUP BY shipmode \\\n",
    "      ORDER BY 2 DESC\").show()"
   ]
  },
  {
   "cell_type": "code",
   "execution_count": null,
   "metadata": {
    "scrolled": true
   },
   "outputs": [],
   "source": [
    "#\n",
    "# Show some basic statistics for all columns\n",
    "#  https://pystarburst.eng.starburstdata.net/dataframe.html#pystarburst.dataframe.DataFrame.describe\n",
    "#\n",
    "\n",
    "tli.describe().show()"
   ]
  },
  {
   "cell_type": "code",
   "execution_count": null,
   "metadata": {},
   "outputs": [],
   "source": [
    "#\n",
    "# Yep, that was busy -- let's just look at a few fields\n",
    "#\n",
    "\n",
    "tli.describe().select(\"summary\", \"quantity\", \"extendedprice\", \"discount\", \"tax\").show()"
   ]
  },
  {
   "cell_type": "code",
   "execution_count": null,
   "metadata": {},
   "outputs": [],
   "source": [
    "#\n",
    "# Exercise some of the Trino string functions\n",
    "#  https://pystarburst.eng.starburstdata.net/dataframe_functions.htm\n",
    "#\n",
    "\n",
    "str_test1 = session.sql(\"SELECT shipmode, shipinstruct FROM tpch.tiny.lineitem\") \\\n",
    "     .withColumn(\"ship_dets\", concat_ws(lit(\" > \"), \"shipmode\", \"shipinstruct\")) \\\n",
    "     .withColumn(\"ship_dets_lc\", lower(\"ship_dets\"))\n",
    "str_test1.show()\n",
    "\n",
    "str_test2 = session.table(\"tpch.tiny.lineitem\").select(\"comment\") \\\n",
    "     .withColumn(\"unusual_comment\", starts_with(\"comment\", lit(\"unusual\"))) \\\n",
    "     .filter(\"unusual_comment = true\") \\\n",
    "     .withColumn(\"comment_mod\", replace(\"comment\", lit(\"unusual\"), lit(\"WEIRD\")))\n",
    "str_test2.show()"
   ]
  },
  {
   "cell_type": "code",
   "execution_count": null,
   "metadata": {},
   "outputs": [],
   "source": [
    "# \n",
    "# Let's join some tables\n",
    "#  https://pystarburst.eng.starburstdata.net/dataframe.html#pystarburst.dataframe.DataFrame.join\n",
    "#\n",
    "\n",
    "ordersDF = session.table(\"tpch.tiny.orders\")\n",
    "lineitemDF = session.table(\"tpch.tiny.lineitem\").rename(\"orderkey\", \"li_ok\")\n",
    "\n",
    "joinedDF = lineitemDF.join(ordersDF, ordersDF.orderkey == lineitemDF.li_ok) \\\n",
    "     .select(\"orderkey\", \"linenumber\", \"extendedprice\", \"linestatus\", \"custkey\") \\\n",
    "     .sort(\"orderkey\", \"linenumber\")\n",
    "joinedDF.show()"
   ]
  },
  {
   "cell_type": "code",
   "execution_count": null,
   "metadata": {},
   "outputs": [],
   "source": [
    "#\n",
    "# Let's join 4 tables together and determine the average lineitem price by nation name\n",
    "#  note: renaming the (logical) FK col names to aid in auto-renaming confusion that occurs\n",
    "# \n",
    "\n",
    "smaller_orders_lineitems = joinedDF.drop(\"linenumber\", \"linestatus\") \\\n",
    "     .rename(\"custkey\", \"sol_ck\").filter(\"orderkey BETWEEN 100 AND 199\")\n",
    "\n",
    "customerDF = session.sql(\"SELECT custkey, nationkey AS c_nk FROM tpch.tiny.customer\") \n",
    "\n",
    "o_li_c = smaller_orders_lineitems.join(customerDF, \\\n",
    "                smaller_orders_lineitems.sol_ck == customerDF.custkey)\n",
    "\n",
    "nationDF = session.table(\"tpch.tiny.nation\").drop(\"regionkey\").drop(\"comment\")\n",
    "\n",
    "nation_avg_price = o_li_c.join(nationDF, o_li_c.c_nk == nationDF.nationkey) \\\n",
    "     .rename(\"name\", \"nation_name\") \\\n",
    "     .select(\"nation_name\", \"extendedprice\") \\\n",
    "     .group_by(\"nation_name\").avg(\"extendedprice\") \\\n",
    "     .with_column(\"avg_price\", round(\"avg(extendedprice)\", lit(2))) \\\n",
    "     .select(\"nation_name\", \"avg_price\") \\\n",
    "     .sort(\"avg_price\", ascending=False)\n",
    "nation_avg_price.show()"
   ]
  },
  {
   "cell_type": "code",
   "execution_count": null,
   "metadata": {},
   "outputs": [],
   "source": [
    "#\n",
    "# SQL version of the above cell, plus verifying the results are identical\n",
    "#  by showing the except() output is empty\n",
    "# \n",
    "\n",
    "nation_avg_price_sql = session.sql(\" \\\n",
    "     SELECT n.name AS nation_name, \\\n",
    "            ROUND(AVG(li.extendedprice), 2) AS avg_price \\\n",
    "       FROM tpch.tiny.lineitem li \\\n",
    "       JOIN tpch.tiny.orders o   ON (li.orderkey = o.orderkey) \\\n",
    "       JOIN tpch.tiny.customer c ON (o.custkey = c.custkey) \\\n",
    "       JOIN tpch.tiny.nation n   ON (c.nationkey = n.nationkey) \\\n",
    "      WHERE o.orderkey BETWEEN 100 and 199 \\\n",
    "      GROUP BY n.name \\\n",
    "      ORDER BY avg_price DESC\")\n",
    "nation_avg_price_sql.show()\n",
    "\n",
    "nation_avg_price.except_(nation_avg_price_sql).show()"
   ]
  },
  {
   "cell_type": "markdown",
   "metadata": {},
   "source": [
    "## You definitely have some **optionality** with the DataFrame API.\n",
    "\n",
    "## That's enough examples for this notebook :)"
   ]
  }
 ],
 "metadata": {
  "kernelspec": {
   "display_name": "Python 3 (ipykernel)",
   "language": "python",
   "name": "python3"
  },
  "language_info": {
   "codemirror_mode": {
    "name": "ipython",
    "version": 3
   },
   "file_extension": ".py",
   "mimetype": "text/x-python",
   "name": "python",
   "nbconvert_exporter": "python",
   "pygments_lexer": "ipython3",
   "version": "3.10.9"
  }
 },
 "nbformat": 4,
 "nbformat_minor": 4
}
