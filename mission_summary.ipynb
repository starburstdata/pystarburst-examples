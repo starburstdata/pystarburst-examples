{
 "cells": [
  {
   "cell_type": "markdown",
   "metadata": {},
   "source": [
    "## Simple space mission analysis with PyStarburst and Galaxy"
   ]
  },
  {
   "cell_type": "markdown",
   "metadata": {},
   "source": [
    "### Prepare the environment\n",
    "\n",
    "First run the following in your terminal\n",
    "\n",
    "`$ python -m venv venv`\n",
    "\n",
    "`$ source venv\\bin\\activate`\n",
    "\n",
    "In addition, you'll need a [Starburst Galaxy](\"https://www.starburst.io/platform/starburst-galaxy/start/\") account with a sample catalog [setup](\"https://docs.starburst.io/starburst-galaxy/catalogs/sample.html\") alongside a writeable catalog for storing the results."
   ]
  },
  {
   "cell_type": "code",
   "execution_count": null,
   "metadata": {},
   "outputs": [],
   "source": [
    "# Install the library\n",
    "\n",
    "%pip install https://starburstdata-downloads.s3.amazonaws.com/pystarburst/0.5.0/pystarburst-0.5.0-py3-none-any.whl"
   ]
  },
  {
   "cell_type": "code",
   "execution_count": null,
   "metadata": {},
   "outputs": [],
   "source": [
    "# Import dependencies\n",
    "\n",
    "from pystarburst import Session\n",
    "from pystarburst import functions as f\n",
    "from pystarburst.functions import col\n",
    "\n",
    "import trino\n",
    "\n",
    "# Define Connection Properties\n",
    "# You can get the host and other information from the Partner Connect -> PyStarburst section in Galaxy\n",
    "\n",
    "session_properties = {\n",
    "    \"host\": \"yourcluster.trino.galaxy.starburst.io\",\n",
    "    \"port\": 443,\n",
    "    # Needed for https secured clusters\n",
    "    \"http_scheme\": \"https\",\n",
    "    # Setup authentication through login or password or any other supported authentication methods\n",
    "    # See docs: https://github.com/trinodb/trino-python-client#authentication-mechanisms\n",
    "    \"auth\": trino.auth.BasicAuthentication(\"youremail@domain.com/accountadmin\", \"password\")\n",
    "}\n",
    "\n",
    "session = Session.builder.configs(session_properties).create()"
   ]
  },
  {
   "cell_type": "code",
   "execution_count": null,
   "metadata": {},
   "outputs": [],
   "source": [
    "# Validate connectivity to the cluster\n",
    "\n",
    "session.sql(\"select 1 as b\").collect()"
   ]
  },
  {
   "cell_type": "code",
   "execution_count": null,
   "metadata": {},
   "outputs": [],
   "source": [
    "# Let's understand the data\n",
    "\n",
    "df_missions = session.table(\"sample.demo.missions\")\n",
    "\n",
    "print(df_missions.schema)\n",
    "df_missions.show()"
   ]
  },
  {
   "cell_type": "code",
   "execution_count": null,
   "metadata": {},
   "outputs": [],
   "source": [
    "#\n",
    "# There's some data clean up needed - plus we want to only look at missions since the year 2000\n",
    "#\n",
    "\n",
    "from datetime import datetime\n",
    "\n",
    "# We can add abritray SQL expressions as needed\n",
    "df_missions = df_missions.with_column(\"date\", f.sql_expr(\"COALESCE(TRY(date_parse(\\\"date\\\", '%a %b %d, %Y %H:%i UTC')), NULL)\"))\n",
    "\n",
    "print(df_missions.schema)\n",
    "\n",
    "df_missions = df_missions\\\n",
    "    .filter(col(\"date\") > datetime(2000, 1, 1))\\\n",
    "    .sort(col(\"date\"), ascending=True)\n",
    "\n",
    "df_missions.show()\n"
   ]
  },
  {
   "cell_type": "code",
   "execution_count": null,
   "metadata": {},
   "outputs": [],
   "source": [
    "#\n",
    "# Next we'll do a basic aggregation for summarization\n",
    "#\n",
    "\n",
    "df_summarized = df_missions\\\n",
    "    .group_by(\"company_name\")\\\n",
    "    .count()\\\n",
    "    .rename(\"count\", \"num_missions\")\\\n",
    "    .sort(col(\"num_missions\").desc())\n",
    "df_summarized.show(n=100)"
   ]
  },
  {
   "cell_type": "code",
   "execution_count": null,
   "metadata": {},
   "outputs": [],
   "source": [
    "#\n",
    "# Finally, let's write the table to our data lake\n",
    "#\n",
    "\n",
    "session.sql(\"CREATE SCHEMA IF NOT EXISTS use_for_general_aws.pystarburst_mis_sum\").collect()\n",
    "\n",
    "session.sql(\"DROP TABLE IF EXISTS use_for_general_aws.pystarburst_mis_sum.missions_summary\").collect()\n",
    "\n",
    "df_summarized.write.save_as_table(\n",
    "    \"use_for_general_aws.pystarburst_mis_sum.missions_summary\",\n",
    ")\n",
    "\n",
    "df_validation = session.table(\"use_for_general_aws.pystarburst_mis_sum.missions_summary\").show()"
   ]
  }
 ],
 "metadata": {
  "kernelspec": {
   "display_name": ".venv",
   "language": "python",
   "name": "python3"
  },
  "language_info": {
   "codemirror_mode": {
    "name": "ipython",
    "version": 3
   },
   "file_extension": ".py",
   "mimetype": "text/x-python",
   "name": "python",
   "nbconvert_exporter": "python",
   "pygments_lexer": "ipython3",
   "version": "3.11.3"
  },
  "orig_nbformat": 4
 },
 "nbformat": 4,
 "nbformat_minor": 2
}
