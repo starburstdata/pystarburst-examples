{
 "cells": [
  {
   "cell_type": "markdown",
   "metadata": {},
   "source": [
    "## Federate data using Starburst & Python"
   ]
  },
  {
   "cell_type": "markdown",
   "metadata": {},
   "source": [
    "### Prepare the environment\n",
    "\n",
    "First run the following in your terminal. You can find more information about Python Virtual Environments in the [Python docs](\"https://docs.python.org/3/library/venv.html\").\n",
    "\n",
    "*Windows cmd.exe*\n",
    "\n",
    "`C:\\> python -m venv venv`\n",
    "\n",
    "`C:\\> venv\\Scripts\\activate.bat`\n",
    "\n",
    "*MacOS/Linux bash/zsh*\n",
    "\n",
    "`$ python -m venv venv`\n",
    "\n",
    "`$ source venv/bin/activate`\n",
    "\n",
    "### Sign up for a Galaxy account & setup the sample catalog\n",
    "\n",
    "You'll need a [Starburst Galaxy](\"https://www.starburst.io/platform/starburst-galaxy/start/\") account."
   ]
  },
  {
   "cell_type": "code",
   "execution_count": null,
   "metadata": {},
   "outputs": [],
   "source": [
    "# Install the library\n",
    "\n",
    "%pip install pystarburst pandas matplotlib"
   ]
  },
  {
   "cell_type": "code",
   "execution_count": null,
   "metadata": {
    "collapsed": false
   },
   "outputs": [],
   "source": [
    "# Define Connection Properties\n",
    "# You can get the host and other information from the Partner Connect -> PyStarburst section in Galaxy\n",
    "\n",
    "import getpass\n",
    "from env import *\n",
    "\n",
    "if PROPMPT_CREDS:\n",
    "    host = input(\"Host name\")\n",
    "    username = input(\"User name\")\n",
    "    password = getpass.getpass(\"Password\")\n",
    "else:\n",
    "    host = HOST\n",
    "    username = USERNAME\n",
    "    password = PASSWORD"
   ]
  },
  {
   "cell_type": "code",
   "execution_count": null,
   "metadata": {},
   "outputs": [],
   "source": [
    "# Import dependencies\n",
    "\n",
    "from pystarburst import Session\n",
    "from pystarburst import functions as f\n",
    "from pystarburst.functions import col, lit\n",
    "\n",
    "import trino\n",
    "\n",
    "session_properties = {\n",
    "    \"host\":host,\n",
    "    \"port\": 443,\n",
    "    # Needed for https secured clusters\n",
    "    \"http_scheme\": \"https\",\n",
    "    # Setup authentication through login or password or any other supported authentication methods\n",
    "    # See docs: https://github.com/trinodb/trino-python-client#authentication-mechanisms\n",
    "    \"auth\": trino.auth.BasicAuthentication(username, password)\n",
    "}\n",
    "\n",
    "session = Session.builder.configs(session_properties).create()"
   ]
  },
  {
   "cell_type": "code",
   "execution_count": null,
   "metadata": {},
   "outputs": [],
   "source": [
    "# Validate connectivity to the cluster\n",
    "\n",
    "session.sql(\"select 1 as b\").show()"
   ]
  },
  {
   "cell_type": "code",
   "execution_count": null,
   "metadata": {},
   "outputs": [],
   "source": [
    "# Let's understand the data\n",
    "\n",
    "# Data in data lake\n",
    "df_dl_customer_360 = session.table(\"s3lakehouse.data_product_customer_360.customer_information\")\n",
    "print(df_dl_customer_360.schema)\n",
    "df_dl_customer_360.show()\n",
    "\n",
    "# Data On Prem\n",
    "df_onprem_credit = session.table(\"sep_dataproducts.customer_360.customer_with_credit\")\n",
    "print(df_onprem_credit.schema)\n",
    "df_onprem_credit.show()\n"
   ]
  },
  {
   "cell_type": "code",
   "execution_count": null,
   "metadata": {},
   "outputs": [],
   "source": [
    "\n",
    "\n",
    "from datetime import datetime\n",
    "\n",
    "# We can add arbitrary SQL expressions as needed\n",
    "df_onprem_credit = df_onprem_credit.with_column(\"risk_appetite\", f.sql_expr(\"replace(\\\"risk_appetite\\\", 'wild_west', 'very_low')\"))\n",
    "df_onprem_credit.show()\n",
    "\n",
    "# Now let's join the two tables between the lake and on-prem\n",
    "df_joined = df_onprem_credit.join(df_dl_customer_360, df_onprem_credit['custkey'] == df_dl_customer_360['custkey'])\n",
    "\n",
    "df_joined.show()\n",
    "# Let's do some basic aggergations\n",
    "\n",
    "df_summary = df_joined\\\n",
    "    .filter(col(\"customer_segment\") == \"diamond\" )\\\n",
    "    .group_by(\"state\")\\\n",
    "    .count()\\\n",
    "    .sort(col(\"count\"), ascending=False)\\\n",
    "\n",
    "df_summary.show()\n",
    "\n"
   ]
  },
  {
   "cell_type": "code",
   "execution_count": null,
   "metadata": {},
   "outputs": [],
   "source": [
    "#\n",
    "# Finally, let's write the table to our data lake\n",
    "#\n",
    "\n",
    "session.sql(\"CREATE SCHEMA IF NOT EXISTS s3lakehouse.pystarburst_federation\").collect()\n",
    "\n",
    "session.sql(\"DROP TABLE IF EXISTS s3lakehouse.pystarburst_federation.federation_sum\").collect()\n",
    "\n",
    "df_summary.write.save_as_table(\n",
    "    \"s3lakehouse.pystarburst_federation.federation_sum\",\n",
    ")\n",
    "\n",
    "df_validation = session.table(\"s3lakehouse.pystarburst_federation.federation_sum\").show()"
   ]
  },
  {
   "cell_type": "code",
   "execution_count": null,
   "metadata": {},
   "outputs": [],
   "source": [
    "#\n",
    "# Now we can convert to pandas\n",
    "#\n",
    "\n",
    "import pandas as pd\n",
    "import matplotlib.pyplot as plt\n",
    "\n",
    "def to_pandas_df(pystarburst_df):\n",
    "    return pd.DataFrame(pystarburst_df.collect())\n",
    "\n",
    "df_validation_pd = to_pandas_df(session.table(\"s3lakehouse.pystarburst_federation.federation_sum\"))\n",
    "df_validation_pd = df_validation_pd.sort_values('count')"
   ]
  },
  {
   "cell_type": "code",
   "execution_count": null,
   "metadata": {},
   "outputs": [],
   "source": [
    "df_validation_pd.plot.pie(figsize=(20,12), y='count', labels=df_validation_pd['state'], legend=False)"
   ]
  }
 ],
 "metadata": {
  "kernelspec": {
   "display_name": ".venv",
   "language": "python",
   "name": "python3"
  },
  "language_info": {
   "codemirror_mode": {
    "name": "ipython",
    "version": 3
   },
   "file_extension": ".py",
   "mimetype": "text/x-python",
   "name": "python",
   "nbconvert_exporter": "python",
   "pygments_lexer": "ipython3",
   "version": "3.11.3"
  },
  "orig_nbformat": 4
 },
 "nbformat": 4,
 "nbformat_minor": 2
}
